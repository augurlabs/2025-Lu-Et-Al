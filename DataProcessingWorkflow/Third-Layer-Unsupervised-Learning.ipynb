{
 "cells": [
  {
   "cell_type": "markdown",
   "id": "5b28a0b1-4be0-4991-b9c9-3286c378fe17",
   "metadata": {},
   "source": [
    "# Loading needed libraries"
   ]
  },
  {
   "cell_type": "code",
   "execution_count": 1,
   "id": "27dece05-2d64-4976-ae1c-c93790e492ed",
   "metadata": {},
   "outputs": [
    {
     "name": "stderr",
     "output_type": "stream",
     "text": [
      "C:\\Users\\wldh6\\anaconda3\\envs\\paper-3\\Lib\\site-packages\\tqdm\\auto.py:21: TqdmWarning: IProgress not found. Please update jupyter and ipywidgets. See https://ipywidgets.readthedocs.io/en/stable/user_install.html\n",
      "  from .autonotebook import tqdm as notebook_tqdm\n"
     ]
    }
   ],
   "source": [
    "###Loading needed packages\n",
    "import numpy as np\n",
    "import pandas as pd\n",
    "from sklearn.preprocessing import LabelEncoder, StandardScaler\n",
    "from sklearn.linear_model import LogisticRegression\n",
    "from sklearn.model_selection import train_test_split\n",
    "from sklearn.metrics import accuracy_score\n",
    "from sklearn.decomposition import PCA, IncrementalPCA, KernelPCA, SparsePCA, TruncatedSVD, FastICA\n",
    "from sklearn.random_projection import GaussianRandomProjection, SparseRandomProjection\n",
    "from sklearn.neighbors import NeighborhoodComponentsAnalysis\n",
    "from sklearn.manifold import Isomap, LocallyLinearEmbedding, TSNE\n",
    "from sklearn.pipeline import make_pipeline\n",
    "import umap\n",
    "import matplotlib.pyplot as plt\n",
    "from factor_analyzer import FactorAnalyzer"
   ]
  },
  {
   "cell_type": "markdown",
   "id": "cf4c3e71-9c8d-4467-bb95-9abc82f93528",
   "metadata": {},
   "source": [
    "# Third Layer Unsupervised Learning"
   ]
  },
  {
   "cell_type": "code",
   "execution_count": 2,
   "id": "c0db55c0-2a34-478f-9228-7c685037eb58",
   "metadata": {},
   "outputs": [],
   "source": [
    "def third_layer_latent_variables(combined_feature_set):\n",
    "    \n",
    "    # Step 1: Create FactorAnalyzer object and perform factor analysis to determine the number of latent variables\n",
    "    fa = FactorAnalyzer()\n",
    "    fa.fit(combined_feature_set)\n",
    "\n",
    "    # Step 2: Check Eigenvalues\n",
    "    ev, _ = fa.get_eigenvalues()\n",
    "\n",
    "    # Step 3: Determine the number of factors with eigenvalues >= 1\n",
    "    n_factors = sum(ev >= 1)\n",
    "    #print(f\"Number of factors with eigenvalue >= 1: {n_factors}\")\n",
    "\n",
    "    # Step 4: Create FactorAnalyzer with determined number of factors and rotation\n",
    "    faR = FactorAnalyzer(n_factors=n_factors, rotation='varimax')\n",
    "    faR.fit(combined_feature_set)\n",
    "\n",
    "    # Step 5: Generate loadings and transformed latent variables\n",
    "    loadings_df = pd.DataFrame(faR.loadings_, index=combined_feature_set.columns)\n",
    "    #print(loadings_df)\n",
    "\n",
    "    new_variables = faR.transform(combined_feature_set)\n",
    "    latent_variable_names = [f'ThirdLayer_Inter_Factor_{i + 1}' for i in range(n_factors)]\n",
    "    new_variables_df = pd.DataFrame(new_variables, columns=latent_variable_names)\n",
    "    \n",
    "    return new_variables_df"
   ]
  },
  {
   "cell_type": "markdown",
   "id": "3dc8b841-f247-4187-a51b-3d4010ae0cb6",
   "metadata": {},
   "source": [
    "# Use case example"
   ]
  },
  {
   "cell_type": "code",
   "execution_count": 3,
   "id": "e0f1e748-966a-44cd-b6eb-473af747f04c",
   "metadata": {},
   "outputs": [],
   "source": [
    "U2_first_second_layer_transform_features = pd.read_csv('FirstSecondLayerLatentFeatures/U2_first_second_layer_latent_features.csv')"
   ]
  },
  {
   "cell_type": "code",
   "execution_count": 4,
   "id": "09d23463-728d-4b4a-b29b-75238e98da83",
   "metadata": {},
   "outputs": [],
   "source": [
    "ThirdLayer_latent_variables = third_layer_latent_variables(U2_first_second_layer_transform_features)"
   ]
  },
  {
   "cell_type": "code",
   "execution_count": 6,
   "id": "3cf50f4a-66df-443f-8df4-d76f3f1d9a28",
   "metadata": {},
   "outputs": [],
   "source": [
    "ThirdLayer_latent_variables.to_csv(\"ThirdLayerLatentFeatures/U2_third_layer_latent_features.csv\")"
   ]
  },
  {
   "cell_type": "code",
   "execution_count": null,
   "id": "423df508-24c0-40ad-b598-1a32b2649d56",
   "metadata": {},
   "outputs": [],
   "source": []
  },
  {
   "cell_type": "code",
   "execution_count": null,
   "id": "072a6d34-b133-4730-9afc-c31d12f95ca3",
   "metadata": {},
   "outputs": [],
   "source": []
  },
  {
   "cell_type": "code",
   "execution_count": null,
   "id": "00bb1453-b99a-45bc-9431-df5700f0efca",
   "metadata": {},
   "outputs": [],
   "source": []
  },
  {
   "cell_type": "code",
   "execution_count": null,
   "id": "266f2df2-55cb-4bf8-9af9-c2bdd678e468",
   "metadata": {},
   "outputs": [],
   "source": []
  },
  {
   "cell_type": "code",
   "execution_count": null,
   "id": "8332a59f-e53b-49ae-8733-8db0ad67c587",
   "metadata": {},
   "outputs": [],
   "source": []
  },
  {
   "cell_type": "code",
   "execution_count": null,
   "id": "f9a17e57-71b5-4210-b209-1b103a56cbd3",
   "metadata": {},
   "outputs": [],
   "source": []
  },
  {
   "cell_type": "code",
   "execution_count": null,
   "id": "d9374bcf-7018-4a79-b5c6-0f92409086c2",
   "metadata": {},
   "outputs": [],
   "source": []
  },
  {
   "cell_type": "code",
   "execution_count": null,
   "id": "c1d80ff3-e1d4-4862-a8a8-725203f4351c",
   "metadata": {},
   "outputs": [],
   "source": []
  },
  {
   "cell_type": "code",
   "execution_count": null,
   "id": "f6cd5920-16e8-48ae-854c-726389cec2f8",
   "metadata": {},
   "outputs": [],
   "source": []
  },
  {
   "cell_type": "code",
   "execution_count": null,
   "id": "d3375b90-bf21-4ef2-97a1-7d5bd8f09a0e",
   "metadata": {},
   "outputs": [],
   "source": []
  },
  {
   "cell_type": "code",
   "execution_count": null,
   "id": "f46719bd-6e7b-4f1f-8c35-5ced74008343",
   "metadata": {},
   "outputs": [],
   "source": []
  },
  {
   "cell_type": "code",
   "execution_count": null,
   "id": "c0543919-d37a-4b7d-9dbd-6668c3c52a68",
   "metadata": {},
   "outputs": [],
   "source": []
  },
  {
   "cell_type": "code",
   "execution_count": null,
   "id": "0ee33564-28bd-4ee3-b876-7290ea001407",
   "metadata": {},
   "outputs": [],
   "source": []
  },
  {
   "cell_type": "code",
   "execution_count": null,
   "id": "855e4f95-65fd-47ce-9578-d193187ec2e3",
   "metadata": {},
   "outputs": [],
   "source": []
  },
  {
   "cell_type": "code",
   "execution_count": null,
   "id": "bd5d5517-5c86-4e41-b735-f634f927b199",
   "metadata": {},
   "outputs": [],
   "source": []
  },
  {
   "cell_type": "code",
   "execution_count": null,
   "id": "40006380-4780-40ff-af94-2fde237160c2",
   "metadata": {},
   "outputs": [],
   "source": []
  },
  {
   "cell_type": "code",
   "execution_count": null,
   "id": "44b5e2d2-7970-48cb-9ea0-3824ae03ff3c",
   "metadata": {},
   "outputs": [],
   "source": []
  },
  {
   "cell_type": "code",
   "execution_count": null,
   "id": "dc095a0f-eacd-4465-902c-6d9bc1e590b2",
   "metadata": {},
   "outputs": [],
   "source": []
  },
  {
   "cell_type": "code",
   "execution_count": null,
   "id": "100bbdd3-77c9-4c4f-82cc-289b368fd118",
   "metadata": {},
   "outputs": [],
   "source": []
  }
 ],
 "metadata": {
  "kernelspec": {
   "display_name": "Python 3 (ipykernel)",
   "language": "python",
   "name": "python3"
  },
  "language_info": {
   "codemirror_mode": {
    "name": "ipython",
    "version": 3
   },
   "file_extension": ".py",
   "mimetype": "text/x-python",
   "name": "python",
   "nbconvert_exporter": "python",
   "pygments_lexer": "ipython3",
   "version": "3.12.3"
  }
 },
 "nbformat": 4,
 "nbformat_minor": 5
}
