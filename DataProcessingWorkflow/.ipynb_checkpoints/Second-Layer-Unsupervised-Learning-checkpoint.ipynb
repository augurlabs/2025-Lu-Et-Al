{
 "cells": [
  {
   "cell_type": "markdown",
   "id": "2d057e14-5a75-4b99-9400-df6f4e489d24",
   "metadata": {},
   "source": [
    "# Loading needed libraries"
   ]
  },
  {
   "cell_type": "code",
   "execution_count": 1,
   "id": "3532f391-bcfa-4706-94a4-47bce1c80402",
   "metadata": {},
   "outputs": [
    {
     "name": "stderr",
     "output_type": "stream",
     "text": [
      "C:\\Users\\wldh6\\anaconda3\\envs\\paper-3\\Lib\\site-packages\\tqdm\\auto.py:21: TqdmWarning: IProgress not found. Please update jupyter and ipywidgets. See https://ipywidgets.readthedocs.io/en/stable/user_install.html\n",
      "  from .autonotebook import tqdm as notebook_tqdm\n"
     ]
    }
   ],
   "source": [
    "###Loading needed packages\n",
    "import numpy as np\n",
    "import pandas as pd\n",
    "from sklearn.preprocessing import LabelEncoder, StandardScaler\n",
    "from sklearn.linear_model import LogisticRegression\n",
    "from sklearn.model_selection import train_test_split\n",
    "from sklearn.metrics import accuracy_score\n",
    "from sklearn.decomposition import PCA, IncrementalPCA, KernelPCA, SparsePCA, TruncatedSVD, FastICA\n",
    "from sklearn.random_projection import GaussianRandomProjection, SparseRandomProjection\n",
    "from sklearn.neighbors import NeighborhoodComponentsAnalysis\n",
    "from sklearn.manifold import Isomap, LocallyLinearEmbedding, TSNE\n",
    "from sklearn.pipeline import make_pipeline\n",
    "import umap\n",
    "import matplotlib.pyplot as plt\n",
    "from factor_analyzer import FactorAnalyzer"
   ]
  },
  {
   "cell_type": "markdown",
   "id": "36e888c4-2cba-465a-9012-a420b37ceaa6",
   "metadata": {},
   "source": [
    "# Second layer latent variable function"
   ]
  },
  {
   "cell_type": "code",
   "execution_count": 19,
   "id": "253c1f6b-91b2-43d2-94d5-7af85c1aadc8",
   "metadata": {},
   "outputs": [],
   "source": [
    "def second_layer_latent_variables(combined_feature_set, behavior_name):\n",
    "    \n",
    "    # Step 1: Create FactorAnalyzer object and perform factor analysis to determine the number of latent variables\n",
    "    fa = FactorAnalyzer()\n",
    "    fa.fit(combined_feature_set)\n",
    "\n",
    "    # Step 2: Check Eigenvalues\n",
    "    ev, _ = fa.get_eigenvalues()\n",
    "\n",
    "    # Step 3: Determine the number of factors with eigenvalues >= 1\n",
    "    n_factors = sum(ev >= 1)\n",
    "    #print(f\"Number of factors with eigenvalue >= 1: {n_factors}\")\n",
    "\n",
    "    # Step 4: Create FactorAnalyzer with determined number of factors and rotation\n",
    "    faR = FactorAnalyzer(n_factors=n_factors, rotation='varimax')\n",
    "    faR.fit(combined_feature_set)\n",
    "\n",
    "    # Step 5: Generate loadings and transformed latent variables\n",
    "    loadings_df = pd.DataFrame(faR.loadings_, index=combined_feature_set.columns)\n",
    "    #print(loadings_df)\n",
    "\n",
    "    new_variables = faR.transform(combined_feature_set)\n",
    "    latent_variable_names = [f'SecondLayer_{behavior_name}_Factor_{i + 1}' for i in range(n_factors)]\n",
    "    new_variables_df = pd.DataFrame(new_variables, columns=latent_variable_names)\n",
    "    \n",
    "    return new_variables_df"
   ]
  },
  {
   "cell_type": "markdown",
   "id": "c509f7d6-4d3a-49dc-9fc6-fba1b712cd89",
   "metadata": {},
   "source": [
    "# Use example"
   ]
  },
  {
   "cell_type": "code",
   "execution_count": 20,
   "id": "ab6daa8d-05b6-4cd4-b351-080614abba50",
   "metadata": {},
   "outputs": [],
   "source": [
    "U2_Arg_freq_transformed = pd.read_csv('FirstLayerLattentVariables/U2_Arg_Freq_transformed.csv')\n",
    "U2_Arg_freq_transformed_No_ID = U2_Arg_freq_transformed.drop(['playerName','U2PostScoreLevel'], axis=1)\n",
    "U2_Arg_speed_transformed = pd.read_csv('FirstLayerLattentVariables/U2_Arg_speed_transformed.csv')\n",
    "U2_Arg_speed_transformed_No_ID = U2_Arg_speed_transformed.drop(['playerName','U2PostScoreLevel'], axis=1)\n",
    "U2_Arg_share_transformed = pd.read_csv('FirstLayerLattentVariables/U2_Arg_share_transformed.csv')\n",
    "U2_Arg_share_transformed_No_ID = U2_Arg_share_transformed.drop(['playerName','U2PostScoreLevel'], axis=1)\n",
    "\n",
    "U2_Argument_Transformed_Dataset = pd.concat([U2_Arg_freq_transformed_No_ID, U2_Arg_speed_transformed_No_ID, U2_Arg_share_transformed_No_ID], axis=1)"
   ]
  },
  {
   "cell_type": "code",
   "execution_count": 21,
   "id": "6ea1a611-7694-4589-bea0-bcecd72ada73",
   "metadata": {},
   "outputs": [],
   "source": [
    "behavior_name = 'Argument'  # Replace 'Argument' with the desired name\n",
    "SecondLayer_argument_latent_variables = second_layer_latent_variables(U2_Argument_Transformed_Dataset, behavior_name)"
   ]
  },
  {
   "cell_type": "code",
   "execution_count": 22,
   "id": "dcc23914-e20c-47c7-a565-d5975dae26be",
   "metadata": {},
   "outputs": [],
   "source": [
    "SecondLayer_argument_latent_variables['playerName'] = U2_Arg_freq_transformed['playerName']\n",
    "SecondLayer_argument_latent_variables['U2PostScoreLevel'] = U2_Arg_freq_transformed['U2PostScoreLevel']"
   ]
  },
  {
   "cell_type": "code",
   "execution_count": 24,
   "id": "bec53407-429e-49a4-b64c-d033ea79c75b",
   "metadata": {},
   "outputs": [],
   "source": [
    "SecondLayer_argument_latent_variables.to_csv('SecondLayerLattentVariables/U2_argument_second_layer.csv')"
   ]
  },
  {
   "cell_type": "code",
   "execution_count": null,
   "id": "95944654-04d3-406a-81c2-d12fb9accf5f",
   "metadata": {},
   "outputs": [],
   "source": []
  },
  {
   "cell_type": "code",
   "execution_count": null,
   "id": "d16a8a24-c021-4cca-9af9-4d9d6b7f2d69",
   "metadata": {},
   "outputs": [],
   "source": []
  },
  {
   "cell_type": "code",
   "execution_count": null,
   "id": "a4371e38-e562-41a8-a8d2-5fc883f3563a",
   "metadata": {},
   "outputs": [],
   "source": []
  },
  {
   "cell_type": "code",
   "execution_count": null,
   "id": "1dcff789-7896-457c-a6b2-e34a4f12fb10",
   "metadata": {},
   "outputs": [],
   "source": []
  },
  {
   "cell_type": "code",
   "execution_count": null,
   "id": "3feb6909-7181-4bd7-860d-cbac841fbfca",
   "metadata": {},
   "outputs": [],
   "source": []
  },
  {
   "cell_type": "code",
   "execution_count": null,
   "id": "2e295021-9a6c-468b-95c2-3251d430e818",
   "metadata": {},
   "outputs": [],
   "source": []
  },
  {
   "cell_type": "code",
   "execution_count": null,
   "id": "e662c137-2483-4b34-978f-7a03a3523c94",
   "metadata": {},
   "outputs": [],
   "source": []
  },
  {
   "cell_type": "code",
   "execution_count": null,
   "id": "87392141-0539-41d8-9e43-159d966befac",
   "metadata": {},
   "outputs": [],
   "source": []
  }
 ],
 "metadata": {
  "kernelspec": {
   "display_name": "Python 3 (ipykernel)",
   "language": "python",
   "name": "python3"
  },
  "language_info": {
   "codemirror_mode": {
    "name": "ipython",
    "version": 3
   },
   "file_extension": ".py",
   "mimetype": "text/x-python",
   "name": "python",
   "nbconvert_exporter": "python",
   "pygments_lexer": "ipython3",
   "version": "3.12.3"
  }
 },
 "nbformat": 4,
 "nbformat_minor": 5
}
